{
 "cells": [
  {
   "cell_type": "code",
   "execution_count": 1,
   "metadata": {},
   "outputs": [],
   "source": [
    "import sys\n",
    "sys.path.append('..')\n",
    "\n",
    "from gpt_tools import Browser\n",
    "\n",
    "TOKEN_FILE = '../token.txt'\n",
    "TOKEN = open(TOKEN_FILE).read().strip()\n"
   ]
  },
  {
   "cell_type": "code",
   "execution_count": 2,
   "metadata": {},
   "outputs": [
    {
     "name": "stderr",
     "output_type": "stream",
     "text": [
      "/home/goryunov/coding/github_projects/autobrowser/.venv/lib/python3.11/site-packages/urllib3/connectionpool.py:1095: InsecureRequestWarning: Unverified HTTPS request is being made to host 'localhost'. Adding certificate verification is strongly advised. See: https://urllib3.readthedocs.io/en/latest/advanced-usage.html#tls-warnings\n",
      "  warnings.warn(\n"
     ]
    },
    {
     "ename": "BrowserError",
     "evalue": "Invalid URL",
     "output_type": "error",
     "traceback": [
      "\u001b[0;31m---------------------------------------------------------------------------\u001b[0m",
      "\u001b[0;31mBrowserError\u001b[0m                              Traceback (most recent call last)",
      "Cell \u001b[0;32mIn[2], line 2\u001b[0m\n\u001b[1;32m      1\u001b[0m browser \u001b[39m=\u001b[39m Browser(TOKEN, trusted_ca\u001b[39m=\u001b[39m\u001b[39mFalse\u001b[39;00m)\n\u001b[0;32m----> 2\u001b[0m tab_id \u001b[39m=\u001b[39m browser\u001b[39m.\u001b[39;49mopen_tab(\u001b[39m\"\u001b[39;49m\u001b[39mwww.google.com/?q=test\u001b[39;49m\u001b[39m\"\u001b[39;49m)\n",
      "File \u001b[0;32m~/coding/github_projects/autobrowser/notebooks/../gpt_tools/_browser.py:97\u001b[0m, in \u001b[0;36mBrowser.open_tab\u001b[0;34m(self, url)\u001b[0m\n\u001b[1;32m     96\u001b[0m \u001b[39mdef\u001b[39;00m \u001b[39mopen_tab\u001b[39m(\u001b[39mself\u001b[39m, url: \u001b[39mstr\u001b[39m):\n\u001b[0;32m---> 97\u001b[0m     \u001b[39mreturn\u001b[39;00m \u001b[39mself\u001b[39;49m\u001b[39m.\u001b[39;49m_reply(\u001b[39mself\u001b[39;49m\u001b[39m.\u001b[39;49mrequest(\u001b[39m\"\u001b[39;49m\u001b[39mPOST\u001b[39;49m\u001b[39m\"\u001b[39;49m, \n\u001b[1;32m     98\u001b[0m                              \u001b[39mf\u001b[39;49m\u001b[39m\"\u001b[39;49m\u001b[39m{\u001b[39;49;00m\u001b[39mself\u001b[39;49m\u001b[39m.\u001b[39;49mbase_url\u001b[39m}\u001b[39;49;00m\u001b[39m/openTab\u001b[39;49m\u001b[39m\"\u001b[39;49m, \n\u001b[1;32m     99\u001b[0m                              json\u001b[39m=\u001b[39;49m{\u001b[39m\"\u001b[39;49m\u001b[39murl\u001b[39;49m\u001b[39m\"\u001b[39;49m: url}))\n",
      "File \u001b[0;32m~/coding/github_projects/autobrowser/notebooks/../gpt_tools/_browser.py:76\u001b[0m, in \u001b[0;36mBrowser._reply\u001b[0;34m(self, request_result)\u001b[0m\n\u001b[1;32m     74\u001b[0m result, code \u001b[39m=\u001b[39m request_result\n\u001b[1;32m     75\u001b[0m \u001b[39mif\u001b[39;00m code \u001b[39m==\u001b[39m \u001b[39m400\u001b[39m:\n\u001b[0;32m---> 76\u001b[0m     \u001b[39mraise\u001b[39;00m BrowserError(result[\u001b[39m\"\u001b[39m\u001b[39mmessage\u001b[39m\u001b[39m\"\u001b[39m])\n\u001b[1;32m     77\u001b[0m \u001b[39mif\u001b[39;00m code \u001b[39m==\u001b[39m \u001b[39m404\u001b[39m:\n\u001b[1;32m     78\u001b[0m     \u001b[39mraise\u001b[39;00m PageNotFound(result[\u001b[39m\"\u001b[39m\u001b[39mmessage\u001b[39m\u001b[39m\"\u001b[39m])\n",
      "\u001b[0;31mBrowserError\u001b[0m: Invalid URL"
     ]
    }
   ],
   "source": [
    "browser = Browser(TOKEN, trusted_ca=False)\n",
    "tab_id = browser.open_tab(\"www.google.com/?q=test\")"
   ]
  },
  {
   "cell_type": "code",
   "execution_count": 3,
   "metadata": {},
   "outputs": [
    {
     "name": "stderr",
     "output_type": "stream",
     "text": [
      "/home/goryunov/coding/github_projects/autobrowser/.venv/lib/python3.11/site-packages/urllib3/connectionpool.py:1095: InsecureRequestWarning: Unverified HTTPS request is being made to host 'localhost'. Adding certificate verification is strongly advised. See: https://urllib3.readthedocs.io/en/latest/advanced-usage.html#tls-warnings\n",
      "  warnings.warn(\n"
     ]
    },
    {
     "data": {
      "text/plain": [
       "[{'id': 1, 'title': 'GPT browser', 'url': 'https://0.0.0.0/'},\n",
       " {'id': 2,\n",
       "  'title': 'Problem loading page',\n",
       "  'url': 'moz-extension://41ad6ad8-2121-4824-8c53-267a529ed189/www.google.com/?q=test'}]"
      ]
     },
     "execution_count": 3,
     "metadata": {},
     "output_type": "execute_result"
    }
   ],
   "source": [
    "browser.tabs_list()"
   ]
  },
  {
   "cell_type": "code",
   "execution_count": 12,
   "metadata": {},
   "outputs": [
    {
     "name": "stderr",
     "output_type": "stream",
     "text": [
      "/home/goryunov/coding/github_projects/autobrowser/.venv/lib/python3.11/site-packages/urllib3/connectionpool.py:1095: InsecureRequestWarning: Unverified HTTPS request is being made to host 'localhost'. Adding certificate verification is strongly advised. See: https://urllib3.readthedocs.io/en/latest/advanced-usage.html#tls-warnings\n",
      "  warnings.warn(\n"
     ]
    },
    {
     "data": {
      "text/plain": [
       "2"
      ]
     },
     "execution_count": 12,
     "metadata": {},
     "output_type": "execute_result"
    }
   ],
   "source": [
    "browser.inject_script(3, ''' window.result = 2 ;''')"
   ]
  }
 ],
 "metadata": {
  "kernelspec": {
   "display_name": ".venv",
   "language": "python",
   "name": "python3"
  },
  "language_info": {
   "codemirror_mode": {
    "name": "ipython",
    "version": 3
   },
   "file_extension": ".py",
   "mimetype": "text/x-python",
   "name": "python",
   "nbconvert_exporter": "python",
   "pygments_lexer": "ipython3",
   "version": "3.11.2"
  },
  "orig_nbformat": 4
 },
 "nbformat": 4,
 "nbformat_minor": 2
}
